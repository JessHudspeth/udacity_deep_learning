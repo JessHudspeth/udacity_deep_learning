{
 "cells": [
  {
   "cell_type": "markdown",
   "metadata": {
    "collapsed": true
   },
   "source": [
    "# Image Classification\n",
    "In this project, you'll classify images from the [CIFAR-10 dataset](https://www.cs.toronto.edu/~kriz/cifar.html).  The dataset consists of airplanes, dogs, cats, and other objects. You'll preprocess the images, then train a convolutional neural network on all the samples. The images need to be normalized and the labels need to be one-hot encoded.  You'll get to apply what you learned and build a convolutional, max pooling, dropout, and fully connected layers.  At the end, you'll get to see your neural network's predictions on the sample images.\n",
    "## Get the Data\n",
    "Run the following cell to download the [CIFAR-10 dataset for python](https://www.cs.toronto.edu/~kriz/cifar-10-python.tar.gz)."
   ]
  },
  {
   "cell_type": "code",
   "execution_count": 1,
   "metadata": {
    "collapsed": false
   },
   "outputs": [
    {
     "name": "stdout",
     "output_type": "stream",
     "text": [
      "All files found!\n"
     ]
    }
   ],
   "source": [
    "\"\"\"\n",
    "DON'T MODIFY ANYTHING IN THIS CELL THAT IS BELOW THIS LINE\n",
    "\"\"\"\n",
    "from urllib.request import urlretrieve\n",
    "from os.path import isfile, isdir\n",
    "from tqdm import tqdm\n",
    "import problem_unittests as tests\n",
    "import tarfile\n",
    "\n",
    "cifar10_dataset_folder_path = 'cifar-10-batches-py'\n",
    "\n",
    "class DLProgress(tqdm):\n",
    "    last_block = 0\n",
    "\n",
    "    def hook(self, block_num=1, block_size=1, total_size=None):\n",
    "        self.total = total_size\n",
    "        self.update((block_num - self.last_block) * block_size)\n",
    "        self.last_block = block_num\n",
    "\n",
    "if not isfile('cifar-10-python.tar.gz'):\n",
    "    with DLProgress(unit='B', unit_scale=True, miniters=1, desc='CIFAR-10 Dataset') as pbar:\n",
    "        urlretrieve(\n",
    "            'https://www.cs.toronto.edu/~kriz/cifar-10-python.tar.gz',\n",
    "            'cifar-10-python.tar.gz',\n",
    "            pbar.hook)\n",
    "\n",
    "if not isdir(cifar10_dataset_folder_path):\n",
    "    with tarfile.open('cifar-10-python.tar.gz') as tar:\n",
    "        tar.extractall()\n",
    "        tar.close()\n",
    "\n",
    "\n",
    "tests.test_folder_path(cifar10_dataset_folder_path)"
   ]
  },
  {
   "cell_type": "markdown",
   "metadata": {},
   "source": [
    "## Explore the Data\n",
    "The dataset is broken into batches to prevent your machine from running out of memory.  The CIFAR-10 dataset consists of 5 batches, named `data_batch_1`, `data_batch_2`, etc.. Each batch contains the labels and images that are one of the following:\n",
    "* airplane\n",
    "* automobile\n",
    "* bird\n",
    "* cat\n",
    "* deer\n",
    "* dog\n",
    "* frog\n",
    "* horse\n",
    "* ship\n",
    "* truck\n",
    "\n",
    "Understanding a dataset is part of making predictions on the data.  Play around with the code cell below by changing the `batch_id` and `sample_id`. The `batch_id` is the id for a batch (1-5). The `sample_id` is the id for a image and label pair in the batch.\n",
    "\n",
    "Ask yourself \"What are all possible labels?\", \"What is the range of values for the image data?\", \"Are the labels in order or random?\".  Answers to questions like these will help you preprocess the data and end up with better predictions."
   ]
  },
  {
   "cell_type": "code",
   "execution_count": 2,
   "metadata": {
    "collapsed": false
   },
   "outputs": [
    {
     "name": "stdout",
     "output_type": "stream",
     "text": [
      "\n",
      "Stats of batch 1:\n",
      "Samples: 10000\n",
      "Label Counts: {0: 1005, 1: 974, 2: 1032, 3: 1016, 4: 999, 5: 937, 6: 1030, 7: 1001, 8: 1025, 9: 981}\n",
      "First 20 Labels: [6, 9, 9, 4, 1, 1, 2, 7, 8, 3, 4, 7, 7, 2, 9, 9, 9, 3, 2, 6]\n",
      "\n",
      "Example of Image 6:\n",
      "Image - Min Value: 7 Max Value: 249\n",
      "Image - Shape: (32, 32, 3)\n",
      "Label - Label Id: 2 Name: bird\n"
     ]
    },
    {
     "data": {
      "image/png": "[encoded data removed]",
      "text/plain": [
       "<matplotlib.figure.Figure at 0x1101199b0>"
      ]
     },
     "metadata": {
      "image/png": {
       "height": 250,
       "width": 253
      }
     },
     "output_type": "display_data"
    }
   ],
   "source": [
    "%matplotlib inline\n",
    "%config InlineBackend.figure_format = 'retina'\n",
    "\n",
    "import helper\n",
    "import numpy as np\n",
    "\n",
    "# Explore the dataset\n",
    "batch_id = 1\n",
    "sample_id = 6\n",
    "helper.display_stats(cifar10_dataset_folder_path, batch_id, sample_id)"
   ]
  },
  {
   "cell_type": "markdown",
   "metadata": {},
   "source": [
    "## Implement Preprocess Functions\n",
    "### Normalize\n",
    "In the cell below, implement the `normalize` function to take in image data, `x`, and return it as a normalized Numpy array. The values should be in the range of 0 to 1, inclusive.  The return object should be the same shape as `x`."
   ]
  },
  {
   "cell_type": "code",
   "execution_count": 3,
   "metadata": {
    "collapsed": false
   },
   "outputs": [
    {
     "name": "stdout",
     "output_type": "stream",
     "text": [
      "Tests Passed\n"
     ]
    }
   ],
   "source": [
    "def normalize(x):\n",
    "    \"\"\"\n",
    "    Normalize a list of sample image data in the range of 0 to 1\n",
    "    : x: List of image data.  The image shape is (32, 32, 3)\n",
    "    : return: Numpy array of normalize data\n",
    "    \"\"\"\n",
    "    # TODO: Implement Function\n",
    "    max_value=255\n",
    "    return x/max_value\n",
    "\n",
    "\n",
    "\"\"\"\n",
    "DON'T MODIFY ANYTHING IN THIS CELL THAT IS BELOW THIS LINE\n",
    "\"\"\"\n",
    "tests.test_normalize(normalize)"
   ]
  },
  {
   "cell_type": "markdown",
   "metadata": {},
   "source": [
    "### One-hot encode\n",
    "Just like the previous code cell, you'll be implementing a function for preprocessing.  This time, you'll implement the `one_hot_encode` function. The input, `x`, are a list of labels.  Implement the function to return the list of labels as One-Hot encoded Numpy array.  The possible values for labels are 0 to 9. The one-hot encoding function should return the same encoding for each value between each call to `one_hot_encode`.  Make sure to save the map of encodings outside the function.\n",
    "\n",
    "Hint: Don't reinvent the wheel."
   ]
  },
  {
   "cell_type": "code",
   "execution_count": 4,
   "metadata": {
    "collapsed": false
   },
   "outputs": [
    {
     "name": "stdout",
     "output_type": "stream",
     "text": [
      "Tests Passed\n"
     ]
    }
   ],
   "source": [
    "from sklearn.preprocessing import LabelBinarizer\n",
    "\n",
    "def one_hot_encode(x):\n",
    "    \"\"\"\n",
    "    One hot encode a list of sample labels. Return a one-hot encoded vector for each label.\n",
    "    : x: List of sample Labels\n",
    "    : return: Numpy array of one-hot encoded labels\n",
    "    \"\"\"\n",
    "    # TODO: Implement Function\n",
    "    lb = LabelBinarizer()\n",
    "    lb.fit(np.arange(10))\n",
    "    #transform = np.zeros((len(x),10), dtype=int)\n",
    "    #for i in range(len(x)):\n",
    "    #    transform[i][x[i]] = 1\n",
    "    return lb.transform(x)\n",
    "\n",
    "\"\"\"\n",
    "DON'T MODIFY ANYTHING IN THIS CELL THAT IS BELOW THIS LINE\n",
    "\"\"\"\n",
    "tests.test_one_hot_encode(one_hot_encode)"
   ]
  },
  {
   "cell_type": "markdown",
   "metadata": {},
   "source": [
    "### Randomize Data\n",
    "As you saw from exploring the data above, the order of the samples are randomized.  It doesn't hurt to randomize it again, but you don't need to for this dataset."
   ]
  },
  {
   "cell_type": "markdown",
   "metadata": {},
   "source": [
    "## Preprocess all the data and save it\n",
    "Running the code cell below will preprocess all the CIFAR-10 data and save it to file. The code below also uses 10% of the training data for validation."
   ]
  },
  {
   "cell_type": "code",
   "execution_count": 5,
   "metadata": {
    "collapsed": false
   },
   "outputs": [],
   "source": [
    "\"\"\"\n",
    "DON'T MODIFY ANYTHING IN THIS CELL\n",
    "\"\"\"\n",
    "# Preprocess Training, Validation, and Testing Data\n",
    "helper.preprocess_and_save_data(cifar10_dataset_folder_path, normalize, one_hot_encode)"
   ]
  },
  {
   "cell_type": "markdown",
   "metadata": {},
   "source": [
    "# Check Point\n",
    "This is your first checkpoint.  If you ever decide to come back to this notebook or have to restart the notebook, you can start from here.  The preprocessed data has been saved to disk."
   ]
  },
  {
   "cell_type": "code",
   "execution_count": 6,
   "metadata": {
    "collapsed": true
   },
   "outputs": [],
   "source": [
    "\"\"\"\n",
    "DON'T MODIFY ANYTHING IN THIS CELL\n",
    "\"\"\"\n",
    "import pickle\n",
    "import problem_unittests as tests\n",
    "import helper\n",
    "\n",
    "# Load the Preprocessed Validation data\n",
    "valid_features, valid_labels = pickle.load(open('preprocess_validation.p', mode='rb'))"
   ]
  },
  {
   "cell_type": "markdown",
   "metadata": {},
   "source": [
    "## Build the network\n",
    "For the neural network, you'll build each layer into a function.  Most of the code you've seen has been outside of functions. To test your code more thoroughly, we require that you put each layer in a function.  This allows us to give you better feedback and test for simple mistakes using our unittests before you submit your project.\n",
    "\n",
    "If you're finding it hard to dedicate enough time for this course a week, we've provided a small shortcut to this part of the project. In the next couple of problems, you'll have the option to use [TensorFlow Layers](https://www.tensorflow.org/api_docs/python/tf/layers) or [TensorFlow Layers (contrib)](https://www.tensorflow.org/api_guides/python/contrib.layers) to build each layer, except \"Convolutional & Max Pooling\" layer.  TF Layers is similar to Keras's and TFLearn's abstraction to layers, so it's easy to pickup.\n",
    "\n",
    "If you would like to get the most of this course, try to solve all the problems without TF Layers.  Let's begin!\n",
    "### Input\n",
    "The neural network needs to read the image data, one-hot encoded labels, and dropout keep probability. Implement the following functions\n",
    "* Implement `neural_net_image_input`\n",
    " * Return a [TF Placeholder](https://www.tensorflow.org/api_docs/python/tf/placeholder)\n",
    " * Set the shape using `image_shape` with batch size set to `None`.\n",
    " * Name the TensorFlow placeholder \"x\" using the TensorFlow `name` parameter in the [TF Placeholder](https://www.tensorflow.org/api_docs/python/tf/placeholder).\n",
    "* Implement `neural_net_label_input`\n",
    " * Return a [TF Placeholder](https://www.tensorflow.org/api_docs/python/tf/placeholder)\n",
    " * Set the shape using `n_classes` with batch size set to `None`.\n",
    " * Name the TensorFlow placeholder \"y\" using the TensorFlow `name` parameter in the [TF Placeholder](https://www.tensorflow.org/api_docs/python/tf/placeholder).\n",
    "* Implement `neural_net_keep_prob_input`\n",
    " * Return a [TF Placeholder](https://www.tensorflow.org/api_docs/python/tf/placeholder) for dropout keep probability.\n",
    " * Name the TensorFlow placeholder \"keep_prob\" using the TensorFlow `name` parameter in the [TF Placeholder](https://www.tensorflow.org/api_docs/python/tf/placeholder).\n",
    "\n",
    "These names will be used at the end of the project to load your saved model.\n",
    "\n",
    "Note: `None` for shapes in TensorFlow allow for a dynamic size."
   ]
  },
  {
   "cell_type": "code",
   "execution_count": 7,
   "metadata": {
    "collapsed": false
   },
   "outputs": [
    {
     "name": "stdout",
     "output_type": "stream",
     "text": [
      "Image Input Tests Passed.\n",
      "Label Input Tests Passed.\n",
      "Keep Prob Tests Passed.\n"
     ]
    }
   ],
   "source": [
    "import tensorflow as tf\n",
    "\n",
    "def neural_net_image_input(image_shape):\n",
    "    \"\"\"\n",
    "    Return a Tensor for a bach of image input\n",
    "    : image_shape: Shape of the images\n",
    "    : return: Tensor for image input.\n",
    "    \"\"\"\n",
    "    # TODO: Implement Function\n",
    "    return tf.placeholder(tf.float32, [None, image_shape[0], image_shape[1], \n",
    "                                  image_shape[2]], name='x')\n",
    "\n",
    "def neural_net_label_input(n_classes):\n",
    "    \"\"\"\n",
    "    Return a Tensor for a batch of label input\n",
    "    : n_classes: Number of classes\n",
    "    : return: Tensor for label input.\n",
    "    \"\"\"\n",
    "    # TODO: Implement Function\n",
    "    return tf.placeholder(tf.float32, shape=[None, n_classes], name='y')\n",
    "    \n",
    "\n",
    "\n",
    "def neural_net_keep_prob_input():\n",
    "    \"\"\"\n",
    "    Return a Tensor for keep probability\n",
    "    : return: Tensor for keep probability.\n",
    "    \"\"\"\n",
    "    # TODO: Implement Function\n",
    "    return tf.placeholder(tf.float32, None, name='keep_prob')\n",
    "\n",
    "\"\"\"\n",
    "DON'T MODIFY ANYTHING IN THIS CELL THAT IS BELOW THIS LINE\n",
    "\"\"\"\n",
    "tf.reset_default_graph()\n",
    "tests.test_nn_image_inputs(neural_net_image_input)\n",
    "tests.test_nn_label_inputs(neural_net_label_input)\n",
    "tests.test_nn_keep_prob_inputs(neural_net_keep_prob_input)"
   ]
  },
  {
   "cell_type": "markdown",
   "metadata": {},
   "source": [
    "### Convolution and Max Pooling Layer\n",
    "Convolution layers have a lot of success with images. For this code cell, you should implement the function `conv2d_maxpool` to apply convolution then max pooling:\n",
    "* Create the weight and bias using `conv_ksize`, `conv_num_outputs` and the shape of `x_tensor`.\n",
    "* Apply a convolution to `x_tensor` using weight and `conv_strides`.\n",
    " * We recommend you use same padding, but you're welcome to use any padding.\n",
    "* Add bias\n",
    "* Add a nonlinear activation to the convolution.\n",
    "* Apply Max Pooling using `pool_ksize` and `pool_strides`.\n",
    " * We recommend you use same padding, but you're welcome to use any padding.\n",
    "\n",
    "Note: You **can't** use [TensorFlow Layers](https://www.tensorflow.org/api_docs/python/tf/layers) or [TensorFlow Layers (contrib)](https://www.tensorflow.org/api_guides/python/contrib.layers) for this layer.  You're free to use any TensorFlow package for all the other layers."
   ]
  },
  {
   "cell_type": "code",
   "execution_count": 8,
   "metadata": {
    "collapsed": false
   },
   "outputs": [
    {
     "name": "stdout",
     "output_type": "stream",
     "text": [
      "Tests Passed\n"
     ]
    }
   ],
   "source": [
    "def conv2d_maxpool(x_tensor, conv_num_outputs, conv_ksize, conv_strides, pool_ksize, \\\n",
    "                   pool_strides):\n",
    "    \"\"\"\n",
    "    Apply convolution then max pooling to x_tensor\n",
    "    :param x_tensor: TensorFlow Tensor\n",
    "    :param conv_num_outputs: Number of outputs for the convolutional layer\n",
    "    :param conv_strides: Stride 2-D Tuple for convolution\n",
    "    :param pool_ksize: kernal size 2-D Tuple for pool\n",
    "    :param pool_strides: Stride 2-D Tuple for pool\n",
    "    : return: A tensor that represents convolution and max pooling of x_tensor\n",
    "    \"\"\"\n",
    "     \n",
    "    # TODO: Implement Function\n",
    "    # weight and bias\n",
    "    weight = tf.Variable(tf.truncated_normal([conv_ksize[0],conv_ksize[1],\\\n",
    "                                        x_tensor.get_shape().as_list()[3],conv_num_outputs]))\n",
    "    bias = tf.Variable(tf.zeros(conv_num_outputs))\n",
    "    \n",
    "    #convolutional layer\n",
    "    conv_layer = tf.nn.conv2d(x_tensor, weight, strides=[1,conv_strides[0],conv_strides[1],1],\\\n",
    "                              padding='SAME')\n",
    "    #add bias\n",
    "    conv_layer = tf.add(conv_layer,bias)\n",
    "    #apply activation function\n",
    "    conv_layer = tf.nn.relu(conv_layer)\n",
    "    #apply max pooling\n",
    "    conv_pool = tf.nn.max_pool(conv_layer, ksize=[1,pool_ksize[0],pool_ksize[1],1],\\\n",
    "                                strides=[1,pool_strides[0],pool_strides[1],1], padding='SAME')\n",
    "    return conv_pool\n",
    "\n",
    "\n",
    "\"\"\"\n",
    "DON'T MODIFY ANYTHING IN THIS CELL THAT IS BELOW THIS LINE\n",
    "\"\"\"\n",
    "tests.test_con_pool(conv2d_maxpool)"
   ]
  },
  {
   "cell_type": "markdown",
   "metadata": {},
   "source": [
    "### Flatten Layer\n",
    "Implement the `flatten` function to change the dimension of `x_tensor` from a 4-D tensor to a 2-D tensor.  The output should be the shape (*Batch Size*, *Flattened Image Size*). You can use [TensorFlow Layers](https://www.tensorflow.org/api_docs/python/tf/layers) or [TensorFlow Layers (contrib)](https://www.tensorflow.org/api_guides/python/contrib.layers) for this layer."
   ]
  },
  {
   "cell_type": "code",
   "execution_count": 9,
   "metadata": {
    "collapsed": false
   },
   "outputs": [
    {
     "name": "stdout",
     "output_type": "stream",
     "text": [
      "Tests Passed\n"
     ]
    }
   ],
   "source": [
    "def flatten(x_tensor):\n",
    "    \"\"\"\n",
    "    Flatten x_tensor to (Batch Size, Flattened Image Size)\n",
    "    : x_tensor: A tensor of size (Batch Size, ...), where ... are the image dimensions.\n",
    "    : return: A tensor of size (Batch Size, Flattened Image Size).\n",
    "    \"\"\"\n",
    "    # TODO: Implement Function\n",
    "    return tf.contrib.layers.flatten(x_tensor)\n",
    "\n",
    "\"\"\"\n",
    "DON'T MODIFY ANYTHING IN THIS CELL THAT IS BELOW THIS LINE\n",
    "\"\"\"\n",
    "tests.test_flatten(flatten)"
   ]
  },
  {
   "cell_type": "markdown",
   "metadata": {},
   "source": [
    "### Fully-Connected Layer\n",
    "Implement the `fully_conn` function to apply a fully connected layer to `x_tensor` with the shape (*Batch Size*, *num_outputs*). You can use [TensorFlow Layers](https://www.tensorflow.org/api_docs/python/tf/layers) or [TensorFlow Layers (contrib)](https://www.tensorflow.org/api_guides/python/contrib.layers) for this layer."
   ]
  },
  {
   "cell_type": "code",
   "execution_count": 10,
   "metadata": {
    "collapsed": false
   },
   "outputs": [
    {
     "name": "stdout",
     "output_type": "stream",
     "text": [
      "Tests Passed\n"
     ]
    }
   ],
   "source": [
    "def fully_conn(x_tensor, num_outputs):\n",
    "    \"\"\"\n",
    "    Apply a fully connected layer to x_tensor using weight and bias\n",
    "    : x_tensor: A 2-D tensor where the first dimension is batch size.\n",
    "    : num_outputs: The number of output that the new tensor should be.\n",
    "    : return: A 2-D tensor where the second dimension is num_outputs.\n",
    "    \"\"\"\n",
    "\n",
    "    # TODO: Implement Function\n",
    "    # weight and bias\n",
    "    weight = tf.Variable(tf.truncated_normal([x_tensor.get_shape().as_list()[1],num_outputs]))\n",
    "    bias = tf.Variable(tf.zeros(num_outputs))\n",
    "    # fully connected layer\n",
    "    fc_layer = tf.add(tf.matmul(x_tensor, weight), bias)\n",
    "    return fc_layer\n",
    "\n",
    "\n",
    "\"\"\"\n",
    "DON'T MODIFY ANYTHING IN THIS CELL THAT IS BELOW THIS LINE\n",
    "\"\"\"\n",
    "tests.test_fully_conn(fully_conn)"
   ]
  },
  {
   "cell_type": "markdown",
   "metadata": {},
   "source": [
    "### Output Layer\n",
    "Implement the `output` function to apply a fully connected layer to `x_tensor` with the shape (*Batch Size*, *num_outputs*). You can use [TensorFlow Layers](https://www.tensorflow.org/api_docs/python/tf/layers) or [TensorFlow Layers (contrib)](https://www.tensorflow.org/api_guides/python/contrib.layers) for this layer.\n",
    "\n",
    "Note: Activation, softmax, or cross entropy shouldn't be applied to this."
   ]
  },
  {
   "cell_type": "code",
   "execution_count": 75,
   "metadata": {
    "collapsed": false
   },
   "outputs": [
    {
     "name": "stdout",
     "output_type": "stream",
     "text": [
      "Tests Passed\n"
     ]
    }
   ],
   "source": [
    "def output(x_tensor, num_outputs):\n",
    "    \"\"\"\n",
    "    Apply a output layer to x_tensor using weight and bias\n",
    "    : x_tensor: A 2-D tensor where the first dimension is batch size.\n",
    "    : num_outputs: The number of output that the new tensor should be.\n",
    "    : return: A 2-D tensor where the second dimension is num_outputs.\n",
    "    \"\"\"\n",
    "    # TODO: Implement Function\n",
    "    weight = tf.Variable(tf.truncated_normal([  ,num_outputs],stddev=0.1))\n",
    "    bias = tf.Variable(tf.zeros(num_outputs))\n",
    "    # fully connected layer\n",
    "    out_layer = tf.add(tf.matmul(x_tensor, weight), bias)\n",
    "    return out_layer\n",
    "\n",
    "\"\"\"\n",
    "DON'T MODIFY ANYTHING IN THIS CELL THAT IS BELOW THIS LINE\n",
    "\"\"\"\n",
    "tests.test_output(output)"
   ]
  },
  {
   "cell_type": "markdown",
   "metadata": {},
   "source": [
    "### Create Convolutional Model\n",
    "Implement the function `conv_net` to create a convolutional neural network model. The function takes in a batch of images, `x`, and outputs logits.  Use the layers you created above to create this model:\n",
    "\n",
    "* Apply 1, 2, or 3 Convolution and Max Pool layers\n",
    "* Apply a Flatten Layer\n",
    "* Apply 1, 2, or 3 Fully Connected Layers\n",
    "* Apply an Output Layer\n",
    "* Return the output\n",
    "* Apply [TensorFlow's Dropout](https://www.tensorflow.org/api_docs/python/tf/nn/dropout) to one or more layers in the model using `keep_prob`. "
   ]
  },
  {
   "cell_type": "code",
   "execution_count": 152,
   "metadata": {
    "collapsed": false
   },
   "outputs": [
    {
     "name": "stdout",
     "output_type": "stream",
     "text": [
      "Neural Network Built!\n"
     ]
    }
   ],
   "source": [
    "def conv_net(x, keep_prob):\n",
    "    \"\"\"\n",
    "    Create a convolutional neural network model\n",
    "    : x: Placeholder tensor that holds image data.\n",
    "    : keep_prob: Placeholder tensor that hold dropout keep probability.\n",
    "    : return: Tensor that represents logits\n",
    "    \"\"\"\n",
    "    # TODO: Apply 1, 2, or 3 Convolution and Max Pool layers\n",
    "    #    Play around with different number of outputs, kernel size and stride\n",
    "    # Function Definition from Above:\n",
    "    #    conv2d_maxpool(x_tensor, conv_num_outputs, conv_ksize, conv_strides, pool_ksize, pool_strides)\n",
    "    ##conv_net = conv2d_maxpool(x, 20, (8,8), (2,2), (2,2), (2,2))\n",
    "    ##conv_net = conv2d_maxpool(conv_net, 40, (5,5), (1,1), (2,2), (2,2))\n",
    "    ##conv_net = conv2d_maxpool(conv_net, 60, (5,5), (1,1), (2,2), (2,2))\n",
    "    ##conv_net = tf.nn.dropout(conv_net, keep_prob)\n",
    "    conv_net = conv2d_maxpool(x, 32, (5,5), (1,1), (2,2), (2,2))\n",
    "    conv_net = conv2d_maxpool(conv_net, 64, (3,3), (1,1), (2,2), (2,2))\n",
    "    #conv_net = conv2d_maxpool(conv_net, 128, (5,5), (3,3), (2,2), (2,2))\n",
    "    \n",
    "    # TODO: Apply a Flatten Layer\n",
    "    # Function Definition from Above:\n",
    "    #   flatten(x_tensor)\n",
    "    conv_net = flatten(conv_net)\n",
    "\n",
    "    # TODO: Apply 1, 2, or 3 Fully Connected Layers\n",
    "    #    Play around with different number of outputs\n",
    "    # Function Definition from Above:\n",
    "    #   fully_conn(x_tensor, num_outputs)\n",
    "    conv_net = fully_conn(conv_net, 1024)\n",
    "    conv_net = fully_conn(conv_net, 100)\n",
    "    conv_net = tf.nn.dropout(conv_net, keep_prob)   \n",
    "    \n",
    "    # TODO: Apply an Output Layer\n",
    "    #    Set this to the number of classes\n",
    "    # Function Definition from Above:\n",
    "    #   output(x_tensor, num_outputs)\n",
    "    conv_net = output(conv_net, 10)\n",
    "    \n",
    "    \n",
    "    #layer = conv2d_maxpool(x, 32, (3, 3), (1, 1), (2, 2), (2, 2))\n",
    "    #layer = conv2d_maxpool(layer, 32, (3, 3), (1, 1), (2, 2), (2, 2))\n",
    "    #layer = conv2d_maxpool(layer, 32, (3, 3), (1, 1), (2, 2), (2, 2))\n",
    "    #layer = flatten(layer)\n",
    "    #layer = fully_conn(layer, 512)\n",
    "    #layer = fully_conn(layer, 512)\n",
    "    #layer = output(layer, 10)\n",
    "    \n",
    "    # TODO: return output\n",
    "    return conv_net\n",
    "\n",
    "\n",
    "\"\"\"\n",
    "DON'T MODIFY ANYTHING IN THIS CELL THAT IS BELOW THIS LINE\n",
    "\"\"\"\n",
    "\n",
    "##############################\n",
    "## Build the Neural Network ##\n",
    "##############################\n",
    "\n",
    "# Remove previous weights, bias, inputs, etc..\n",
    "tf.reset_default_graph()\n",
    "\n",
    "# Inputs\n",
    "x = neural_net_image_input((32, 32, 3))\n",
    "y = neural_net_label_input(10)\n",
    "keep_prob = neural_net_keep_prob_input()\n",
    "\n",
    "# Model\n",
    "logits = conv_net(x, keep_prob)\n",
    "\n",
    "# Name logits Tensor, so that is can be loaded from disk after training\n",
    "logits = tf.identity(logits, name='logits')\n",
    "\n",
    "# Loss and Optimizer\n",
    "cost = tf.reduce_mean(tf.nn.softmax_cross_entropy_with_logits(logits=logits, labels=y))\n",
    "optimizer = tf.train.AdamOptimizer().minimize(cost)\n",
    "\n",
    "# Accuracy\n",
    "correct_pred = tf.equal(tf.argmax(logits, 1), tf.argmax(y, 1))\n",
    "accuracy = tf.reduce_mean(tf.cast(correct_pred, tf.float32), name='accuracy')\n",
    "\n",
    "tests.test_conv_net(conv_net)"
   ]
  },
  {
   "cell_type": "markdown",
   "metadata": {},
   "source": [
    "\n",
    "## Train the Neural Network\n",
    "### Single Optimization\n",
    "Implement the function `train_neural_network` to do a single optimization.  The optimization should use `optimizer` to optimize in `session` with a `feed_dict` of the following:\n",
    "* `x` for image input\n",
    "* `y` for labels\n",
    "* `keep_prob` for keep probability for dropout\n",
    "\n",
    "This function will be called for each batch, so `tf.global_variables_initializer()` has already been called.\n",
    "\n",
    "Note: Nothing needs to be returned. This function is only optimizing the neural network."
   ]
  },
  {
   "cell_type": "code",
   "execution_count": 153,
   "metadata": {
    "collapsed": false
   },
   "outputs": [
    {
     "name": "stdout",
     "output_type": "stream",
     "text": [
      "Tests Passed\n"
     ]
    }
   ],
   "source": [
    "def train_neural_network(session, optimizer, keep_probability, feature_batch, label_batch):\n",
    "    \"\"\"\n",
    "    Optimize the session on a batch of images and labels\n",
    "    : session: Current TensorFlow session\n",
    "    : optimizer: TensorFlow optimizer function\n",
    "    : keep_probability: keep probability\n",
    "    : feature_batch: Batch of Numpy image data\n",
    "    : label_batch: Batch of Numpy label data\n",
    "    \"\"\"\n",
    "    # TODO: Implement Function\n",
    "    session.run(optimizer, feed_dict={x:feature_batch, y:label_batch, \\\n",
    "                                      keep_prob:keep_probability})\n",
    "\n",
    "\n",
    "\"\"\"\n",
    "DON'T MODIFY ANYTHING IN THIS CELL THAT IS BELOW THIS LINE\n",
    "\"\"\"\n",
    "tests.test_train_nn(train_neural_network)"
   ]
  },
  {
   "cell_type": "markdown",
   "metadata": {},
   "source": [
    "### Show Stats\n",
    "Implement the function `print_stats` to print loss and validation accuracy.  Use the global variables `valid_features` and `valid_labels` to calculate validation accuracy.  Use a keep probability of `1.0` to calculate the loss and validation accuracy."
   ]
  },
  {
   "cell_type": "code",
   "execution_count": 154,
   "metadata": {
    "collapsed": false
   },
   "outputs": [],
   "source": [
    "def print_stats(session, feature_batch, label_batch, cost, accuracy):\n",
    "    \"\"\"\n",
    "    Print information about loss and validation accuracy\n",
    "    : session: Current TensorFlow session\n",
    "    : feature_batch: Batch of Numpy image data\n",
    "    : label_batch: Batch of Numpy label data\n",
    "    : cost: TensorFlow cost function\n",
    "    : accuracy: TensorFlow accuracy function\n",
    "    \"\"\"\n",
    "    # TODO: Implement Function\n",
    "    loss = session.run(cost, feed_dict={x:valid_features, y:valid_labels, keep_prob:1.0})\n",
    "    validation_accuracy = session.run(accuracy, feed_dict={x:feature_batch, y:label_batch,\\\n",
    "                                                           keep_prob:1.0})\n",
    "    print(\"loss: \", loss, \"validation accuracy: \", validation_accuracy)\n",
    "    "
   ]
  },
  {
   "cell_type": "markdown",
   "metadata": {},
   "source": [
    "### Hyperparameters\n",
    "Tune the following parameters:\n",
    "* Set `epochs` to the number of iterations until the network stops learning or start overfitting\n",
    "* Set `batch_size` to the highest number that your machine has memory for.  Most people set them to common sizes of memory:\n",
    " * 64\n",
    " * 128\n",
    " * 256\n",
    " * ...\n",
    "* Set `keep_probability` to the probability of keeping a node using dropout"
   ]
  },
  {
   "cell_type": "code",
   "execution_count": 155,
   "metadata": {
    "collapsed": true
   },
   "outputs": [],
   "source": [
    "# TODO: Tune Parameters\n",
    "epochs = 100\n",
    "batch_size = 256\n",
    "keep_probability = 1"
   ]
  },
  {
   "cell_type": "markdown",
   "metadata": {},
   "source": [
    "### Train on a Single CIFAR-10 Batch\n",
    "Instead of training the neural network on all the CIFAR-10 batches of data, let's use a single batch. This should save time while you iterate on the model to get a better accuracy.  Once the final validation accuracy is 50% or greater, run the model on all the data in the next section."
   ]
  },
  {
   "cell_type": "code",
   "execution_count": 156,
   "metadata": {
    "collapsed": false
   },
   "outputs": [
    {
     "name": "stdout",
     "output_type": "stream",
     "text": [
      "Checking the Training on a Single Batch...\n",
      "Epoch  1, CIFAR-10 Batch 1:  loss:  12057.2 validation accuracy:  0.325\n",
      "Epoch  2, CIFAR-10 Batch 1:  loss:  8169.87 validation accuracy:  0.425\n",
      "Epoch  3, CIFAR-10 Batch 1:  loss:  6346.42 validation accuracy:  0.45\n",
      "Epoch  4, CIFAR-10 Batch 1:  loss:  5614.21 validation accuracy:  0.55\n",
      "Epoch  5, CIFAR-10 Batch 1:  loss:  4966.51 validation accuracy:  0.6\n",
      "Epoch  6, CIFAR-10 Batch 1:  loss:  4668.13 validation accuracy:  0.6\n",
      "Epoch  7, CIFAR-10 Batch 1:  loss:  4187.67 validation accuracy:  0.65\n",
      "Epoch  8, CIFAR-10 Batch 1:  loss:  3796.68 validation accuracy:  0.65\n",
      "Epoch  9, CIFAR-10 Batch 1:  loss:  3788.15 validation accuracy:  0.675\n",
      "Epoch 10, CIFAR-10 Batch 1:  loss:  3743.55 validation accuracy:  0.625\n",
      "Epoch 11, CIFAR-10 Batch 1:  loss:  3714.0 validation accuracy:  0.6\n",
      "Epoch 12, CIFAR-10 Batch 1:  loss:  3279.9 validation accuracy:  0.725\n",
      "Epoch 13, CIFAR-10 Batch 1:  loss:  3121.05 validation accuracy:  0.75\n",
      "Epoch 14, CIFAR-10 Batch 1:  loss:  3321.93 validation accuracy:  0.725\n",
      "Epoch 15, CIFAR-10 Batch 1:  loss:  3610.24 validation accuracy:  0.6\n",
      "Epoch 16, CIFAR-10 Batch 1:  loss:  2862.42 validation accuracy:  0.85\n",
      "Epoch 17, CIFAR-10 Batch 1:  loss:  2819.47 validation accuracy:  0.775\n",
      "Epoch 18, CIFAR-10 Batch 1:  loss:  2744.58 validation accuracy:  0.75\n",
      "Epoch 19, CIFAR-10 Batch 1:  loss:  2516.9 validation accuracy:  0.85\n",
      "Epoch 20, CIFAR-10 Batch 1:  loss:  2412.04 validation accuracy:  0.85\n",
      "Epoch 21, CIFAR-10 Batch 1:  loss:  2264.72 validation accuracy:  0.95\n",
      "Epoch 22, CIFAR-10 Batch 1:  loss:  2213.71 validation accuracy:  0.9\n",
      "Epoch 23, CIFAR-10 Batch 1:  loss:  2115.44 validation accuracy:  0.9\n",
      "Epoch 24, CIFAR-10 Batch 1:  loss:  2227.04 validation accuracy:  0.825\n",
      "Epoch 25, CIFAR-10 Batch 1:  loss:  2168.84 validation accuracy:  0.85\n",
      "Epoch 26, CIFAR-10 Batch 1:  loss:  2049.16 validation accuracy:  0.875\n",
      "Epoch 27, CIFAR-10 Batch 1:  loss:  1934.34 validation accuracy:  0.9\n",
      "Epoch 28, CIFAR-10 Batch 1:  loss:  1923.05 validation accuracy:  0.975\n",
      "Epoch 29, CIFAR-10 Batch 1:  loss:  1916.92 validation accuracy:  0.925\n",
      "Epoch 30, CIFAR-10 Batch 1:  loss:  1861.17 validation accuracy:  1.0\n",
      "Epoch 31, CIFAR-10 Batch 1:  loss:  1848.11 validation accuracy:  0.9\n",
      "Epoch 32, CIFAR-10 Batch 1:  loss:  1935.32 validation accuracy:  0.9\n",
      "Epoch 33, CIFAR-10 Batch 1:  loss:  1895.6 validation accuracy:  0.875\n",
      "Epoch 34, CIFAR-10 Batch 1:  loss:  1890.47 validation accuracy:  0.875\n",
      "Epoch 35, CIFAR-10 Batch 1:  loss:  1834.73 validation accuracy:  0.925\n",
      "Epoch 36, CIFAR-10 Batch 1:  loss:  1758.07 validation accuracy:  0.925\n",
      "Epoch 37, CIFAR-10 Batch 1:  loss:  1707.88 validation accuracy:  0.95\n",
      "Epoch 38, CIFAR-10 Batch 1:  loss:  1657.19 validation accuracy:  0.975\n",
      "Epoch 39, CIFAR-10 Batch 1:  loss:  1632.7 validation accuracy:  0.9\n",
      "Epoch 40, CIFAR-10 Batch 1:  loss:  1602.44 validation accuracy:  0.95\n",
      "Epoch 41, CIFAR-10 Batch 1:  loss:  1720.43 validation accuracy:  0.95\n",
      "Epoch 42, CIFAR-10 Batch 1:  loss:  1666.55 validation accuracy:  0.925\n",
      "Epoch 43, CIFAR-10 Batch 1:  loss:  1704.92 validation accuracy:  0.95\n",
      "Epoch 44, CIFAR-10 Batch 1:  loss:  1826.03 validation accuracy:  0.875\n",
      "Epoch 45, CIFAR-10 Batch 1:  loss:  1545.0 validation accuracy:  0.95\n",
      "Epoch 46, CIFAR-10 Batch 1:  loss:  1557.51 validation accuracy:  0.975\n",
      "Epoch 47, CIFAR-10 Batch 1:  loss:  1622.4 validation accuracy:  0.925\n",
      "Epoch 48, CIFAR-10 Batch 1:  loss:  1687.27 validation accuracy:  0.875\n",
      "Epoch 49, CIFAR-10 Batch 1:  loss:  1546.66 validation accuracy:  0.95\n",
      "Epoch 50, CIFAR-10 Batch 1:  loss:  1407.03 validation accuracy:  1.0\n",
      "Epoch 51, CIFAR-10 Batch 1:  loss:  1527.69 validation accuracy:  0.85\n",
      "Epoch 52, CIFAR-10 Batch 1:  loss:  1686.05 validation accuracy:  0.85\n",
      "Epoch 53, CIFAR-10 Batch 1:  loss:  1554.03 validation accuracy:  0.9\n",
      "Epoch 54, CIFAR-10 Batch 1:  loss:  1523.81 validation accuracy:  0.9\n",
      "Epoch 55, CIFAR-10 Batch 1:  loss:  1442.53 validation accuracy:  0.975\n",
      "Epoch 56, CIFAR-10 Batch 1:  loss:  1357.49 validation accuracy:  1.0\n",
      "Epoch 57, CIFAR-10 Batch 1:  loss:  1419.62 validation accuracy:  0.875\n",
      "Epoch 58, CIFAR-10 Batch 1:  loss:  1346.09 validation accuracy:  0.975\n",
      "Epoch 59, CIFAR-10 Batch 1:  loss:  1381.11 validation accuracy:  1.0\n",
      "Epoch 60, CIFAR-10 Batch 1:  loss:  1409.44 validation accuracy:  0.925\n",
      "Epoch 61, CIFAR-10 Batch 1:  loss:  1381.35 validation accuracy:  0.95\n",
      "Epoch 62, CIFAR-10 Batch 1:  loss:  1286.49 validation accuracy:  0.975\n",
      "Epoch 63, CIFAR-10 Batch 1:  loss:  1279.85 validation accuracy:  0.925\n",
      "Epoch 64, CIFAR-10 Batch 1:  loss:  1311.07 validation accuracy:  0.925\n",
      "Epoch 65, CIFAR-10 Batch 1:  loss:  1355.53 validation accuracy:  0.925\n",
      "Epoch 66, CIFAR-10 Batch 1:  loss:  1435.23 validation accuracy:  0.9\n",
      "Epoch 67, CIFAR-10 Batch 1:  loss:  1388.99 validation accuracy:  0.975\n",
      "Epoch 68, CIFAR-10 Batch 1:  loss:  1279.12 validation accuracy:  0.975\n",
      "Epoch 69, CIFAR-10 Batch 1:  loss:  1405.54 validation accuracy:  0.825\n",
      "Epoch 70, CIFAR-10 Batch 1:  loss:  1502.87 validation accuracy:  0.8\n",
      "Epoch 71, CIFAR-10 Batch 1:  loss:  1242.84 validation accuracy:  1.0\n",
      "Epoch 72, CIFAR-10 Batch 1:  loss:  1231.12 validation accuracy:  0.975\n",
      "Epoch 73, CIFAR-10 Batch 1:  loss:  1237.01 validation accuracy:  0.9\n",
      "Epoch 74, CIFAR-10 Batch 1:  loss:  1172.63 validation accuracy:  0.95\n",
      "Epoch 75, CIFAR-10 Batch 1:  loss:  1166.58 validation accuracy:  0.975\n",
      "Epoch 76, CIFAR-10 Batch 1:  loss:  1234.25 validation accuracy:  0.95\n",
      "Epoch 77, CIFAR-10 Batch 1:  loss:  1178.27 validation accuracy:  0.95\n",
      "Epoch 78, CIFAR-10 Batch 1:  loss:  1183.2 validation accuracy:  0.875\n",
      "Epoch 79, CIFAR-10 Batch 1:  loss:  1219.16 validation accuracy:  0.875\n",
      "Epoch 80, CIFAR-10 Batch 1:  loss:  1097.59 validation accuracy:  0.975\n",
      "Epoch 81, CIFAR-10 Batch 1:  loss:  1177.04 validation accuracy:  1.0\n",
      "Epoch 82, CIFAR-10 Batch 1:  loss:  1141.46 validation accuracy:  1.0\n",
      "Epoch 83, CIFAR-10 Batch 1:  loss:  1082.59 validation accuracy:  1.0\n",
      "Epoch 84, CIFAR-10 Batch 1:  loss:  1076.92 validation accuracy:  1.0\n",
      "Epoch 85, CIFAR-10 Batch 1:  loss:  1080.14 validation accuracy:  0.95\n",
      "Epoch 86, CIFAR-10 Batch 1:  loss:  1073.12 validation accuracy:  0.95\n",
      "Epoch 87, CIFAR-10 Batch 1:  loss:  1055.84 validation accuracy:  0.975\n",
      "Epoch 88, CIFAR-10 Batch 1:  loss:  1028.38 validation accuracy:  1.0\n",
      "Epoch 89, CIFAR-10 Batch 1:  loss:  1062.68 validation accuracy:  1.0\n",
      "Epoch 90, CIFAR-10 Batch 1:  loss:  1019.55 validation accuracy:  1.0\n",
      "Epoch 91, CIFAR-10 Batch 1:  loss:  1002.11 validation accuracy:  1.0\n",
      "Epoch 92, CIFAR-10 Batch 1:  loss:  1010.42 validation accuracy:  1.0\n",
      "Epoch 93, CIFAR-10 Batch 1:  loss:  1042.74 validation accuracy:  1.0\n",
      "Epoch 94, CIFAR-10 Batch 1:  loss:  1045.83 validation accuracy:  1.0\n",
      "Epoch 95, CIFAR-10 Batch 1:  loss:  1074.96 validation accuracy:  1.0\n",
      "Epoch 96, CIFAR-10 Batch 1:  loss:  1045.57 validation accuracy:  1.0\n",
      "Epoch 97, CIFAR-10 Batch 1:  loss:  1018.29 validation accuracy:  1.0\n",
      "Epoch 98, CIFAR-10 Batch 1:  loss:  1006.27 validation accuracy:  1.0\n",
      "Epoch 99, CIFAR-10 Batch 1:  loss:  1028.26 validation accuracy:  0.975\n",
      "Epoch 100, CIFAR-10 Batch 1:  loss:  1024.69 validation accuracy:  0.975\n"
     ]
    }
   ],
   "source": [
    "\"\"\"\n",
    "DON'T MODIFY ANYTHING IN THIS CELL\n",
    "\"\"\"\n",
    "print('Checking the Training on a Single Batch...')\n",
    "with tf.Session() as sess:\n",
    "    # Initializing the variables\n",
    "    sess.run(tf.global_variables_initializer())\n",
    "    \n",
    "    # Training cycle\n",
    "    for epoch in range(epochs):\n",
    "        batch_i = 1\n",
    "        for batch_features, batch_labels in helper.load_preprocess_training_batch(batch_i, batch_size):\n",
    "            train_neural_network(sess, optimizer, keep_probability, batch_features, batch_labels)\n",
    "        print('Epoch {:>2}, CIFAR-10 Batch {}:  '.format(epoch + 1, batch_i), end='')\n",
    "        print_stats(sess, batch_features, batch_labels, cost, accuracy)"
   ]
  },
  {
   "cell_type": "markdown",
   "metadata": {},
   "source": [
    "### Fully Train the Model\n",
    "Now that you got a good accuracy with a single CIFAR-10 batch, try it with all five batches."
   ]
  },
  {
   "cell_type": "code",
   "execution_count": 87,
   "metadata": {
    "collapsed": false
   },
   "outputs": [
    {
     "name": "stdout",
     "output_type": "stream",
     "text": [
      "Training...\n",
      "Epoch  1, CIFAR-10 Batch 1:  loss:  44319.5 validation accuracy:  0.148649\n",
      "Epoch  1, CIFAR-10 Batch 2:  loss:  29545.0 validation accuracy:  0.202703\n",
      "Epoch  1, CIFAR-10 Batch 3:  loss:  23138.4 validation accuracy:  0.256757\n",
      "Epoch  1, CIFAR-10 Batch 4:  loss:  20016.2 validation accuracy:  0.293919\n",
      "Epoch  1, CIFAR-10 Batch 5:  loss:  17700.0 validation accuracy:  0.222973\n",
      "Epoch  2, CIFAR-10 Batch 1:  loss:  15668.6 validation accuracy:  0.243243\n",
      "Epoch  2, CIFAR-10 Batch 2:  loss:  14726.6 validation accuracy:  0.297297\n",
      "Epoch  2, CIFAR-10 Batch 3:  loss:  12978.3 validation accuracy:  0.304054\n",
      "Epoch  2, CIFAR-10 Batch 4:  loss:  11848.1 validation accuracy:  0.324324\n",
      "Epoch  2, CIFAR-10 Batch 5:  loss:  11023.0 validation accuracy:  0.314189\n",
      "Epoch  3, CIFAR-10 Batch 1:  loss:  10499.3 validation accuracy:  0.27027\n",
      "Epoch  3, CIFAR-10 Batch 2:  loss:  10348.5 validation accuracy:  0.327703\n",
      "Epoch  3, CIFAR-10 Batch 3:  loss:  9351.58 validation accuracy:  0.320946\n",
      "Epoch  3, CIFAR-10 Batch 4:  loss:  8357.58 validation accuracy:  0.351351\n",
      "Epoch  3, CIFAR-10 Batch 5:  loss:  8032.85 validation accuracy:  0.358108\n",
      "Epoch  4, CIFAR-10 Batch 1:  loss:  7934.73 validation accuracy:  0.334459\n",
      "Epoch  4, CIFAR-10 Batch 2:  loss:  7855.46 validation accuracy:  0.371622\n",
      "Epoch  4, CIFAR-10 Batch 3:  loss:  7241.26 validation accuracy:  0.317568\n",
      "Epoch  4, CIFAR-10 Batch 4:  loss:  6505.76 validation accuracy:  0.398649\n",
      "Epoch  4, CIFAR-10 Batch 5:  loss:  6299.88 validation accuracy:  0.375\n",
      "Epoch  5, CIFAR-10 Batch 1:  loss:  6115.9 validation accuracy:  0.364865\n",
      "Epoch  5, CIFAR-10 Batch 2:  loss:  6052.09 validation accuracy:  0.391892\n",
      "Epoch  5, CIFAR-10 Batch 3:  loss:  5502.62 validation accuracy:  0.344595\n",
      "Epoch  5, CIFAR-10 Batch 4:  loss:  5164.22 validation accuracy:  0.39527\n",
      "Epoch  5, CIFAR-10 Batch 5:  loss:  4960.23 validation accuracy:  0.368243\n",
      "Epoch  6, CIFAR-10 Batch 1:  loss:  4817.76 validation accuracy:  0.385135\n",
      "Epoch  6, CIFAR-10 Batch 2:  loss:  4885.23 validation accuracy:  0.378378\n",
      "Epoch  6, CIFAR-10 Batch 3:  loss:  4425.8 validation accuracy:  0.364865\n",
      "Epoch  6, CIFAR-10 Batch 4:  loss:  4171.15 validation accuracy:  0.418919\n",
      "Epoch  6, CIFAR-10 Batch 5:  loss:  4099.44 validation accuracy:  0.402027\n",
      "Epoch  7, CIFAR-10 Batch 1:  loss:  3910.44 validation accuracy:  0.405405\n",
      "Epoch  7, CIFAR-10 Batch 2:  loss:  3801.35 validation accuracy:  0.381757\n",
      "Epoch  7, CIFAR-10 Batch 3:  loss:  3578.2 validation accuracy:  0.371622\n",
      "Epoch  7, CIFAR-10 Batch 4:  loss:  3402.21 validation accuracy:  0.408784\n",
      "Epoch  7, CIFAR-10 Batch 5:  loss:  3368.45 validation accuracy:  0.375\n",
      "Epoch  8, CIFAR-10 Batch 1:  loss:  3224.21 validation accuracy:  0.418919\n",
      "Epoch  8, CIFAR-10 Batch 2:  loss:  3125.22 validation accuracy:  0.418919\n",
      "Epoch  8, CIFAR-10 Batch 3:  loss:  3019.25 validation accuracy:  0.361486\n",
      "Epoch  8, CIFAR-10 Batch 4:  loss:  2891.4 validation accuracy:  0.405405\n",
      "Epoch  8, CIFAR-10 Batch 5:  loss:  2847.95 validation accuracy:  0.371622\n",
      "Epoch  9, CIFAR-10 Batch 1:  loss:  2691.92 validation accuracy:  0.39527\n",
      "Epoch  9, CIFAR-10 Batch 2:  loss:  2548.31 validation accuracy:  0.415541\n",
      "Epoch  9, CIFAR-10 Batch 3:  loss:  2622.42 validation accuracy:  0.35473\n",
      "Epoch  9, CIFAR-10 Batch 4:  loss:  2526.17 validation accuracy:  0.415541\n",
      "Epoch  9, CIFAR-10 Batch 5:  loss:  2411.98 validation accuracy:  0.385135\n",
      "Epoch 10, CIFAR-10 Batch 1:  loss:  2205.96 validation accuracy:  0.391892\n",
      "Epoch 10, CIFAR-10 Batch 2:  loss:  2150.82 validation accuracy:  0.435811\n",
      "Epoch 10, CIFAR-10 Batch 3:  loss:  2178.09 validation accuracy:  0.371622\n",
      "Epoch 10, CIFAR-10 Batch 4:  loss:  2124.45 validation accuracy:  0.432432\n",
      "Epoch 10, CIFAR-10 Batch 5:  loss:  1954.23 validation accuracy:  0.425676\n",
      "Epoch 11, CIFAR-10 Batch 1:  loss:  1868.55 validation accuracy:  0.381757\n",
      "Epoch 11, CIFAR-10 Batch 2:  loss:  1877.07 validation accuracy:  0.442568\n",
      "Epoch 11, CIFAR-10 Batch 3:  loss:  1829.18 validation accuracy:  0.39527\n",
      "Epoch 11, CIFAR-10 Batch 4:  loss:  1814.52 validation accuracy:  0.435811\n",
      "Epoch 11, CIFAR-10 Batch 5:  loss:  1676.45 validation accuracy:  0.405405\n",
      "Epoch 12, CIFAR-10 Batch 1:  loss:  1570.68 validation accuracy:  0.385135\n",
      "Epoch 12, CIFAR-10 Batch 2:  loss:  1560.53 validation accuracy:  0.439189\n",
      "Epoch 12, CIFAR-10 Batch 3:  loss:  1532.95 validation accuracy:  0.39527\n",
      "Epoch 12, CIFAR-10 Batch 4:  loss:  1506.01 validation accuracy:  0.435811\n",
      "Epoch 12, CIFAR-10 Batch 5:  loss:  1366.08 validation accuracy:  0.39527\n",
      "Epoch 13, CIFAR-10 Batch 1:  loss:  1332.8 validation accuracy:  0.388514\n",
      "Epoch 13, CIFAR-10 Batch 2:  loss:  1348.67 validation accuracy:  0.425676\n",
      "Epoch 13, CIFAR-10 Batch 3:  loss:  1279.21 validation accuracy:  0.418919\n",
      "Epoch 13, CIFAR-10 Batch 4:  loss:  1225.42 validation accuracy:  0.418919\n",
      "Epoch 13, CIFAR-10 Batch 5:  loss:  1150.68 validation accuracy:  0.405405\n",
      "Epoch 14, CIFAR-10 Batch 1:  loss:  1139.47 validation accuracy:  0.364865\n",
      "Epoch 14, CIFAR-10 Batch 2:  loss:  1107.31 validation accuracy:  0.429054\n",
      "Epoch 14, CIFAR-10 Batch 3:  loss:  1050.06 validation accuracy:  0.425676\n",
      "Epoch 14, CIFAR-10 Batch 4:  loss:  1009.54 validation accuracy:  0.415541\n",
      "Epoch 14, CIFAR-10 Batch 5:  loss:  999.978 validation accuracy:  0.402027\n",
      "Epoch 15, CIFAR-10 Batch 1:  loss:  961.413 validation accuracy:  0.391892\n",
      "Epoch 15, CIFAR-10 Batch 2:  loss:  942.506 validation accuracy:  0.415541\n",
      "Epoch 15, CIFAR-10 Batch 3:  loss:  924.084 validation accuracy:  0.442568\n",
      "Epoch 15, CIFAR-10 Batch 4:  loss:  836.884 validation accuracy:  0.422297\n",
      "Epoch 15, CIFAR-10 Batch 5:  loss:  867.674 validation accuracy:  0.371622\n",
      "Epoch 16, CIFAR-10 Batch 1:  loss:  877.935 validation accuracy:  0.375\n",
      "Epoch 16, CIFAR-10 Batch 2:  loss:  791.546 validation accuracy:  0.452703\n",
      "Epoch 16, CIFAR-10 Batch 3:  loss:  769.125 validation accuracy:  0.408784\n",
      "Epoch 16, CIFAR-10 Batch 4:  loss:  730.333 validation accuracy:  0.39527\n",
      "Epoch 16, CIFAR-10 Batch 5:  loss:  734.157 validation accuracy:  0.358108\n",
      "Epoch 17, CIFAR-10 Batch 1:  loss:  743.433 validation accuracy:  0.347973\n",
      "Epoch 17, CIFAR-10 Batch 2:  loss:  662.99 validation accuracy:  0.449324\n",
      "Epoch 17, CIFAR-10 Batch 3:  loss:  618.003 validation accuracy:  0.425676\n",
      "Epoch 17, CIFAR-10 Batch 4:  loss:  613.854 validation accuracy:  0.405405\n",
      "Epoch 17, CIFAR-10 Batch 5:  loss:  756.263 validation accuracy:  0.341216\n",
      "Epoch 18, CIFAR-10 Batch 1:  loss:  685.671 validation accuracy:  0.324324\n",
      "Epoch 18, CIFAR-10 Batch 2:  loss:  603.812 validation accuracy:  0.445946\n",
      "Epoch 18, CIFAR-10 Batch 3:  loss:  563.611 validation accuracy:  0.418919\n",
      "Epoch 18, CIFAR-10 Batch 4:  loss:  521.035 validation accuracy:  0.402027\n",
      "Epoch 18, CIFAR-10 Batch 5:  loss:  539.712 validation accuracy:  0.334459\n",
      "Epoch 19, CIFAR-10 Batch 1:  loss:  587.12 validation accuracy:  0.341216\n"
     ]
    },
    {
     "ename": "KeyboardInterrupt",
     "evalue": "",
     "output_type": "error",
     "traceback": [
      "\u001b[0;31m---------------------------------------------------------------------------\u001b[0m",
      "\u001b[0;31mKeyboardInterrupt\u001b[0m                         Traceback (most recent call last)",
      "\u001b[0;32m<ipython-input-87-9df3032ebe9d>\u001b[0m in \u001b[0;36m<module>\u001b[0;34m()\u001b[0m\n\u001b[1;32m     15\u001b[0m         \u001b[0;32mfor\u001b[0m \u001b[0mbatch_i\u001b[0m \u001b[0;32min\u001b[0m \u001b[0mrange\u001b[0m\u001b[0;34m(\u001b[0m\u001b[0;36m1\u001b[0m\u001b[0;34m,\u001b[0m \u001b[0mn_batches\u001b[0m \u001b[0;34m+\u001b[0m \u001b[0;36m1\u001b[0m\u001b[0;34m)\u001b[0m\u001b[0;34m:\u001b[0m\u001b[0;34m\u001b[0m\u001b[0m\n\u001b[1;32m     16\u001b[0m             \u001b[0;32mfor\u001b[0m \u001b[0mbatch_features\u001b[0m\u001b[0;34m,\u001b[0m \u001b[0mbatch_labels\u001b[0m \u001b[0;32min\u001b[0m \u001b[0mhelper\u001b[0m\u001b[0;34m.\u001b[0m\u001b[0mload_preprocess_training_batch\u001b[0m\u001b[0;34m(\u001b[0m\u001b[0mbatch_i\u001b[0m\u001b[0;34m,\u001b[0m \u001b[0mbatch_size\u001b[0m\u001b[0;34m)\u001b[0m\u001b[0;34m:\u001b[0m\u001b[0;34m\u001b[0m\u001b[0m\n\u001b[0;32m---> 17\u001b[0;31m                 \u001b[0mtrain_neural_network\u001b[0m\u001b[0;34m(\u001b[0m\u001b[0msess\u001b[0m\u001b[0;34m,\u001b[0m \u001b[0moptimizer\u001b[0m\u001b[0;34m,\u001b[0m \u001b[0mkeep_probability\u001b[0m\u001b[0;34m,\u001b[0m \u001b[0mbatch_features\u001b[0m\u001b[0;34m,\u001b[0m \u001b[0mbatch_labels\u001b[0m\u001b[0;34m)\u001b[0m\u001b[0;34m\u001b[0m\u001b[0m\n\u001b[0m\u001b[1;32m     18\u001b[0m             \u001b[0mprint\u001b[0m\u001b[0;34m(\u001b[0m\u001b[0;34m'Epoch {:>2}, CIFAR-10 Batch {}:  '\u001b[0m\u001b[0;34m.\u001b[0m\u001b[0mformat\u001b[0m\u001b[0;34m(\u001b[0m\u001b[0mepoch\u001b[0m \u001b[0;34m+\u001b[0m \u001b[0;36m1\u001b[0m\u001b[0;34m,\u001b[0m \u001b[0mbatch_i\u001b[0m\u001b[0;34m)\u001b[0m\u001b[0;34m,\u001b[0m \u001b[0mend\u001b[0m\u001b[0;34m=\u001b[0m\u001b[0;34m''\u001b[0m\u001b[0;34m)\u001b[0m\u001b[0;34m\u001b[0m\u001b[0m\n\u001b[1;32m     19\u001b[0m             \u001b[0mprint_stats\u001b[0m\u001b[0;34m(\u001b[0m\u001b[0msess\u001b[0m\u001b[0;34m,\u001b[0m \u001b[0mbatch_features\u001b[0m\u001b[0;34m,\u001b[0m \u001b[0mbatch_labels\u001b[0m\u001b[0;34m,\u001b[0m \u001b[0mcost\u001b[0m\u001b[0;34m,\u001b[0m \u001b[0maccuracy\u001b[0m\u001b[0;34m)\u001b[0m\u001b[0;34m\u001b[0m\u001b[0m\n",
      "\u001b[0;32m<ipython-input-83-dab9b26f3da9>\u001b[0m in \u001b[0;36mtrain_neural_network\u001b[0;34m(session, optimizer, keep_probability, feature_batch, label_batch)\u001b[0m\n\u001b[1;32m      9\u001b[0m     \"\"\"\n\u001b[1;32m     10\u001b[0m     \u001b[0;31m# TODO: Implement Function\u001b[0m\u001b[0;34m\u001b[0m\u001b[0;34m\u001b[0m\u001b[0m\n\u001b[0;32m---> 11\u001b[0;31m     \u001b[0msession\u001b[0m\u001b[0;34m.\u001b[0m\u001b[0mrun\u001b[0m\u001b[0;34m(\u001b[0m\u001b[0moptimizer\u001b[0m\u001b[0;34m,\u001b[0m \u001b[0mfeed_dict\u001b[0m\u001b[0;34m=\u001b[0m\u001b[0;34m{\u001b[0m\u001b[0mx\u001b[0m\u001b[0;34m:\u001b[0m\u001b[0mfeature_batch\u001b[0m\u001b[0;34m,\u001b[0m \u001b[0my\u001b[0m\u001b[0;34m:\u001b[0m\u001b[0mlabel_batch\u001b[0m\u001b[0;34m,\u001b[0m                                       \u001b[0mkeep_prob\u001b[0m\u001b[0;34m:\u001b[0m\u001b[0mkeep_probability\u001b[0m\u001b[0;34m}\u001b[0m\u001b[0;34m)\u001b[0m\u001b[0;34m\u001b[0m\u001b[0m\n\u001b[0m\u001b[1;32m     12\u001b[0m \u001b[0;34m\u001b[0m\u001b[0m\n\u001b[1;32m     13\u001b[0m \u001b[0;34m\u001b[0m\u001b[0m\n",
      "\u001b[0;32m/Users/Hudspeth/anaconda2/envs/python3/lib/python3.6/site-packages/tensorflow/python/client/session.py\u001b[0m in \u001b[0;36mrun\u001b[0;34m(self, fetches, feed_dict, options, run_metadata)\u001b[0m\n\u001b[1;32m    764\u001b[0m     \u001b[0;32mtry\u001b[0m\u001b[0;34m:\u001b[0m\u001b[0;34m\u001b[0m\u001b[0m\n\u001b[1;32m    765\u001b[0m       result = self._run(None, fetches, feed_dict, options_ptr,\n\u001b[0;32m--> 766\u001b[0;31m                          run_metadata_ptr)\n\u001b[0m\u001b[1;32m    767\u001b[0m       \u001b[0;32mif\u001b[0m \u001b[0mrun_metadata\u001b[0m\u001b[0;34m:\u001b[0m\u001b[0;34m\u001b[0m\u001b[0m\n\u001b[1;32m    768\u001b[0m         \u001b[0mproto_data\u001b[0m \u001b[0;34m=\u001b[0m \u001b[0mtf_session\u001b[0m\u001b[0;34m.\u001b[0m\u001b[0mTF_GetBuffer\u001b[0m\u001b[0;34m(\u001b[0m\u001b[0mrun_metadata_ptr\u001b[0m\u001b[0;34m)\u001b[0m\u001b[0;34m\u001b[0m\u001b[0m\n",
      "\u001b[0;32m/Users/Hudspeth/anaconda2/envs/python3/lib/python3.6/site-packages/tensorflow/python/client/session.py\u001b[0m in \u001b[0;36m_run\u001b[0;34m(self, handle, fetches, feed_dict, options, run_metadata)\u001b[0m\n\u001b[1;32m    962\u001b[0m     \u001b[0;32mif\u001b[0m \u001b[0mfinal_fetches\u001b[0m \u001b[0;32mor\u001b[0m \u001b[0mfinal_targets\u001b[0m\u001b[0;34m:\u001b[0m\u001b[0;34m\u001b[0m\u001b[0m\n\u001b[1;32m    963\u001b[0m       results = self._do_run(handle, final_targets, final_fetches,\n\u001b[0;32m--> 964\u001b[0;31m                              feed_dict_string, options, run_metadata)\n\u001b[0m\u001b[1;32m    965\u001b[0m     \u001b[0;32melse\u001b[0m\u001b[0;34m:\u001b[0m\u001b[0;34m\u001b[0m\u001b[0m\n\u001b[1;32m    966\u001b[0m       \u001b[0mresults\u001b[0m \u001b[0;34m=\u001b[0m \u001b[0;34m[\u001b[0m\u001b[0;34m]\u001b[0m\u001b[0;34m\u001b[0m\u001b[0m\n",
      "\u001b[0;32m/Users/Hudspeth/anaconda2/envs/python3/lib/python3.6/site-packages/tensorflow/python/client/session.py\u001b[0m in \u001b[0;36m_do_run\u001b[0;34m(self, handle, target_list, fetch_list, feed_dict, options, run_metadata)\u001b[0m\n\u001b[1;32m   1012\u001b[0m     \u001b[0;32mif\u001b[0m \u001b[0mhandle\u001b[0m \u001b[0;32mis\u001b[0m \u001b[0;32mNone\u001b[0m\u001b[0;34m:\u001b[0m\u001b[0;34m\u001b[0m\u001b[0m\n\u001b[1;32m   1013\u001b[0m       return self._do_call(_run_fn, self._session, feed_dict, fetch_list,\n\u001b[0;32m-> 1014\u001b[0;31m                            target_list, options, run_metadata)\n\u001b[0m\u001b[1;32m   1015\u001b[0m     \u001b[0;32melse\u001b[0m\u001b[0;34m:\u001b[0m\u001b[0;34m\u001b[0m\u001b[0m\n\u001b[1;32m   1016\u001b[0m       return self._do_call(_prun_fn, self._session, handle, feed_dict,\n",
      "\u001b[0;32m/Users/Hudspeth/anaconda2/envs/python3/lib/python3.6/site-packages/tensorflow/python/client/session.py\u001b[0m in \u001b[0;36m_do_call\u001b[0;34m(self, fn, *args)\u001b[0m\n\u001b[1;32m   1019\u001b[0m   \u001b[0;32mdef\u001b[0m \u001b[0m_do_call\u001b[0m\u001b[0;34m(\u001b[0m\u001b[0mself\u001b[0m\u001b[0;34m,\u001b[0m \u001b[0mfn\u001b[0m\u001b[0;34m,\u001b[0m \u001b[0;34m*\u001b[0m\u001b[0margs\u001b[0m\u001b[0;34m)\u001b[0m\u001b[0;34m:\u001b[0m\u001b[0;34m\u001b[0m\u001b[0m\n\u001b[1;32m   1020\u001b[0m     \u001b[0;32mtry\u001b[0m\u001b[0;34m:\u001b[0m\u001b[0;34m\u001b[0m\u001b[0m\n\u001b[0;32m-> 1021\u001b[0;31m       \u001b[0;32mreturn\u001b[0m \u001b[0mfn\u001b[0m\u001b[0;34m(\u001b[0m\u001b[0;34m*\u001b[0m\u001b[0margs\u001b[0m\u001b[0;34m)\u001b[0m\u001b[0;34m\u001b[0m\u001b[0m\n\u001b[0m\u001b[1;32m   1022\u001b[0m     \u001b[0;32mexcept\u001b[0m \u001b[0merrors\u001b[0m\u001b[0;34m.\u001b[0m\u001b[0mOpError\u001b[0m \u001b[0;32mas\u001b[0m \u001b[0me\u001b[0m\u001b[0;34m:\u001b[0m\u001b[0;34m\u001b[0m\u001b[0m\n\u001b[1;32m   1023\u001b[0m       \u001b[0mmessage\u001b[0m \u001b[0;34m=\u001b[0m \u001b[0mcompat\u001b[0m\u001b[0;34m.\u001b[0m\u001b[0mas_text\u001b[0m\u001b[0;34m(\u001b[0m\u001b[0me\u001b[0m\u001b[0;34m.\u001b[0m\u001b[0mmessage\u001b[0m\u001b[0;34m)\u001b[0m\u001b[0;34m\u001b[0m\u001b[0m\n",
      "\u001b[0;32m/Users/Hudspeth/anaconda2/envs/python3/lib/python3.6/site-packages/tensorflow/python/client/session.py\u001b[0m in \u001b[0;36m_run_fn\u001b[0;34m(session, feed_dict, fetch_list, target_list, options, run_metadata)\u001b[0m\n\u001b[1;32m   1001\u001b[0m         return tf_session.TF_Run(session, options,\n\u001b[1;32m   1002\u001b[0m                                  \u001b[0mfeed_dict\u001b[0m\u001b[0;34m,\u001b[0m \u001b[0mfetch_list\u001b[0m\u001b[0;34m,\u001b[0m \u001b[0mtarget_list\u001b[0m\u001b[0;34m,\u001b[0m\u001b[0;34m\u001b[0m\u001b[0m\n\u001b[0;32m-> 1003\u001b[0;31m                                  status, run_metadata)\n\u001b[0m\u001b[1;32m   1004\u001b[0m \u001b[0;34m\u001b[0m\u001b[0m\n\u001b[1;32m   1005\u001b[0m     \u001b[0;32mdef\u001b[0m \u001b[0m_prun_fn\u001b[0m\u001b[0;34m(\u001b[0m\u001b[0msession\u001b[0m\u001b[0;34m,\u001b[0m \u001b[0mhandle\u001b[0m\u001b[0;34m,\u001b[0m \u001b[0mfeed_dict\u001b[0m\u001b[0;34m,\u001b[0m \u001b[0mfetch_list\u001b[0m\u001b[0;34m)\u001b[0m\u001b[0;34m:\u001b[0m\u001b[0;34m\u001b[0m\u001b[0m\n",
      "\u001b[0;31mKeyboardInterrupt\u001b[0m: "
     ]
    }
   ],
   "source": [
    "\"\"\"\n",
    "DON'T MODIFY ANYTHING IN THIS CELL\n",
    "\"\"\"\n",
    "save_model_path = './image_classification'\n",
    "\n",
    "print('Training...')\n",
    "with tf.Session() as sess:\n",
    "    # Initializing the variables\n",
    "    sess.run(tf.global_variables_initializer())\n",
    "    \n",
    "    # Training cycle\n",
    "    for epoch in range(epochs):\n",
    "        # Loop over all batches\n",
    "        n_batches = 5\n",
    "        for batch_i in range(1, n_batches + 1):\n",
    "            for batch_features, batch_labels in helper.load_preprocess_training_batch(batch_i, batch_size):\n",
    "                train_neural_network(sess, optimizer, keep_probability, batch_features, batch_labels)\n",
    "            print('Epoch {:>2}, CIFAR-10 Batch {}:  '.format(epoch + 1, batch_i), end='')\n",
    "            print_stats(sess, batch_features, batch_labels, cost, accuracy)\n",
    "            \n",
    "    # Save Model\n",
    "    saver = tf.train.Saver()\n",
    "    save_path = saver.save(sess, save_model_path)"
   ]
  },
  {
   "cell_type": "markdown",
   "metadata": {},
   "source": [
    "# Checkpoint\n",
    "The model has been saved to disk.\n",
    "## Test Model\n",
    "Test your model against the test dataset.  This will be your final accuracy. You should have an accuracy greater than 50%. If you don't, keep tweaking the model architecture and parameters."
   ]
  },
  {
   "cell_type": "code",
   "execution_count": 73,
   "metadata": {
    "collapsed": false
   },
   "outputs": [
    {
     "name": "stdout",
     "output_type": "stream",
     "text": [
      "Testing Accuracy: 0.3735523894429207\n",
      "\n"
     ]
    },
    {
     "data": {
      "image/png": "[encoded data removed]",
      "text/plain": [
       "<matplotlib.figure.Figure at 0x117923390>"
      ]
     },
     "metadata": {
      "image/png": {
       "height": 319,
       "width": 349
      }
     },
     "output_type": "display_data"
    }
   ],
   "source": [
    "\"\"\"\n",
    "DON'T MODIFY ANYTHING IN THIS CELL\n",
    "\"\"\"\n",
    "%matplotlib inline\n",
    "%config InlineBackend.figure_format = 'retina'\n",
    "\n",
    "import tensorflow as tf\n",
    "import pickle\n",
    "import helper\n",
    "import random\n",
    "\n",
    "# Set batch size if not already set\n",
    "try:\n",
    "    if batch_size:\n",
    "        pass\n",
    "except NameError:\n",
    "    batch_size = 64\n",
    "\n",
    "save_model_path = './image_classification'\n",
    "n_samples = 4\n",
    "top_n_predictions = 3\n",
    "\n",
    "def test_model():\n",
    "    \"\"\"\n",
    "    Test the saved model against the test dataset\n",
    "    \"\"\"\n",
    "\n",
    "    test_features, test_labels = pickle.load(open('preprocess_training.p', mode='rb'))\n",
    "    loaded_graph = tf.Graph()\n",
    "\n",
    "    with tf.Session(graph=loaded_graph) as sess:\n",
    "        # Load model\n",
    "        loader = tf.train.import_meta_graph(save_model_path + '.meta')\n",
    "        loader.restore(sess, save_model_path)\n",
    "\n",
    "        # Get Tensors from loaded model\n",
    "        loaded_x = loaded_graph.get_tensor_by_name('x:0')\n",
    "        loaded_y = loaded_graph.get_tensor_by_name('y:0')\n",
    "        loaded_keep_prob = loaded_graph.get_tensor_by_name('keep_prob:0')\n",
    "        loaded_logits = loaded_graph.get_tensor_by_name('logits:0')\n",
    "        loaded_acc = loaded_graph.get_tensor_by_name('accuracy:0')\n",
    "        \n",
    "        # Get accuracy in batches for memory limitations\n",
    "        test_batch_acc_total = 0\n",
    "        test_batch_count = 0\n",
    "        \n",
    "        for train_feature_batch, train_label_batch in helper.batch_features_labels(test_features, test_labels, batch_size):\n",
    "            test_batch_acc_total += sess.run(\n",
    "                loaded_acc,\n",
    "                feed_dict={loaded_x: train_feature_batch, loaded_y: train_label_batch, loaded_keep_prob: 1.0})\n",
    "            test_batch_count += 1\n",
    "\n",
    "        print('Testing Accuracy: {}\\n'.format(test_batch_acc_total/test_batch_count))\n",
    "\n",
    "        # Print Random Samples\n",
    "        random_test_features, random_test_labels = tuple(zip(*random.sample(list(zip(test_features, test_labels)), n_samples)))\n",
    "        random_test_predictions = sess.run(\n",
    "            tf.nn.top_k(tf.nn.softmax(loaded_logits), top_n_predictions),\n",
    "            feed_dict={loaded_x: random_test_features, loaded_y: random_test_labels, loaded_keep_prob: 1.0})\n",
    "        helper.display_image_predictions(random_test_features, random_test_labels, random_test_predictions)\n",
    "\n",
    "\n",
    "test_model()"
   ]
  },
  {
   "cell_type": "markdown",
   "metadata": {},
   "source": [
    "## Why 50-70% Accuracy?\n",
    "You might be wondering why you can't get an accuracy any higher. First things first, 50% isn't bad for a simple CNN.  Pure guessing would get you 10% accuracy. However, you might notice people are getting scores [well above 70%](http://rodrigob.github.io/are_we_there_yet/build/classification_datasets_results.html#43494641522d3130).  That's because we haven't taught you all there is to know about neural networks. We still need to cover a few more techniques.\n",
    "## Submitting This Project\n",
    "When submitting this project, make sure to run all the cells before saving the notebook.  Save the notebook file as \"dlnd_image_classification.ipynb\" and save it as a HTML file under \"File\" -> \"Download as\".  Include the \"helper.py\" and \"problem_unittests.py\" files in your submission."
   ]
  }
 ],
 "metadata": {
  "kernelspec": {
   "display_name": "Python 3",
   "language": "python",
   "name": "python3"
  },
  "language_info": {
   "codemirror_mode": {
    "name": "ipython",
    "version": 3
   },
   "file_extension": ".py",
   "mimetype": "text/x-python",
   "name": "python",
   "nbconvert_exporter": "python",
   "pygments_lexer": "ipython3",
   "version": "3.6.0"
  }
 },
 "nbformat": 4,
 "nbformat_minor": 0
}
